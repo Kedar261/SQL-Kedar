{
 "cells": [
  {
   "cell_type": "code",
   "execution_count": null,
   "id": "1554eab8",
   "metadata": {},
   "outputs": [],
   "source": [
    "#Q-1. Write an SQL query to print the FIRST_NAME from Worker table after removing white spaces from the right side.\n",
    "SELECT RTRIM(FIRST_name) FROM WORKERS;\n"
   ]
  },
  {
   "cell_type": "code",
   "execution_count": null,
   "id": "b74848ff",
   "metadata": {},
   "outputs": [],
   "source": [
    "#Q-2. Write an SQL query that fetches the unique values of DEPARTMENT from Worker table and prints its length.\n",
    "SELECT LENGTH(DISTINCT(department)) from worker;"
   ]
  },
  {
   "cell_type": "code",
   "execution_count": null,
   "id": "298ca552",
   "metadata": {},
   "outputs": [],
   "source": [
    "#Q-3. Write an SQL query to fetch nth max salaries from a table.\n",
    "    Select Salary from table_name order by Salary DESC limit n-1,1;"
   ]
  }
 ],
 "metadata": {
  "kernelspec": {
   "display_name": "Python 3 (ipykernel)",
   "language": "python",
   "name": "python3"
  },
  "language_info": {
   "codemirror_mode": {
    "name": "ipython",
    "version": 3
   },
   "file_extension": ".py",
   "mimetype": "text/x-python",
   "name": "python",
   "nbconvert_exporter": "python",
   "pygments_lexer": "ipython3",
   "version": "3.9.7"
  }
 },
 "nbformat": 4,
 "nbformat_minor": 5
}

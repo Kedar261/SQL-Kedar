{
 "cells": [
  {
   "cell_type": "code",
   "execution_count": null,
   "id": "3f546a89",
   "metadata": {},
   "outputs": [],
   "source": [
    "#Q-1. Write an SQL query to print the first three characters of  FIRST_NAME from Worker table.\n",
    "\n",
    "SELECT substring(FIRST_NAME,1,3) from worker;\n"
   ]
  },
  {
   "cell_type": "code",
   "execution_count": null,
   "id": "ffb523c6",
   "metadata": {},
   "outputs": [],
   "source": [
    "#Q-2. Write an SQL query to find the position of the alphabet (‘a’) in the first name column ‘Amitabh’ from Worker table.\n",
    "SELECT INSTR(FIRST_NAME, BINARY'a') from Worker where FIRST_NAME = 'Amitabh';"
   ]
  },
  {
   "cell_type": "code",
   "execution_count": null,
   "id": "dd8f8bbc",
   "metadata": {},
   "outputs": [],
   "source": [
    "#Q-3. Write an SQL query to print the name of employees having the highest salary in each department.\n",
    "SELECT Employeename, DepartmentName, MAX(Salary) \n",
    "FROM Employee e RIGHT JOIN Department d ON e.DepartmentId = d.DepartmentID \n",
    "GROUP BY DepartmentName"
   ]
  }
 ],
 "metadata": {
  "kernelspec": {
   "display_name": "Python 3 (ipykernel)",
   "language": "python",
   "name": "python3"
  },
  "language_info": {
   "codemirror_mode": {
    "name": "ipython",
    "version": 3
   },
   "file_extension": ".py",
   "mimetype": "text/x-python",
   "name": "python",
   "nbconvert_exporter": "python",
   "pygments_lexer": "ipython3",
   "version": "3.9.7"
  }
 },
 "nbformat": 4,
 "nbformat_minor": 5
}
